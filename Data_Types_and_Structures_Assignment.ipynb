{
  "nbformat": 4,
  "nbformat_minor": 0,
  "metadata": {
    "colab": {
      "provenance": []
    },
    "kernelspec": {
      "name": "python3",
      "display_name": "Python 3"
    },
    "language_info": {
      "name": "python"
    }
  },
  "cells": [
    {
      "cell_type": "markdown",
      "source": [
        "#Data Types and Structures Assignment"
      ],
      "metadata": {
        "id": "8LlLXWx9efpS"
      }
    },
    {
      "cell_type": "markdown",
      "source": [
        "##Theoritical Questions"
      ],
      "metadata": {
        "id": "CdBSw3y1eq64"
      }
    },
    {
      "cell_type": "markdown",
      "source": [
        "**[1] What are data structures, and why are they important?**\n",
        "\n",
        "--> Data structures are ways of organizing and storing data so that it can be accessed and modified efficiently.\n",
        "\n",
        "--> They are important because they help in managing large amounts of data, improve performance and make code easier to understand and maintain.\n"
      ],
      "metadata": {
        "id": "Rnd8FxVpe1LB"
      }
    },
    {
      "cell_type": "markdown",
      "source": [
        "**[2] Explain the difference between mutable and immutable data types with examples.**\n",
        "\n",
        "--> Mutable data types, can be changed after creation(e.g, Lists, Dictionaries)\n",
        "\n",
        "Immutable data types, cannot be changed once created(e.g, Strings, tuples).\n",
        "\n",
        "* **Example:**\n",
        "\n",
        "List=[1,2];List[0]=5 #Mutable\n",
        "\n",
        "Tup=(1,2);Tup(0)=5 #Error, Immutable\n"
      ],
      "metadata": {
        "id": "osFLtFfAgYOv"
      }
    },
    {
      "cell_type": "markdown",
      "source": [
        "**[3] What are the main differences between lists and tuples in Python?**\n",
        "\n",
        "--> Main differences between lists and tuples in Python:\n",
        "\n",
        "* Lists aremutable and tuples are immutable\n",
        "\n",
        "* Lists use more memory and tuples are more memory-efficient\n",
        "\n",
        "* Tuples are faster than lists for iteration.\n",
        "\n",
        "* Tuples are often used for fixed data."
      ],
      "metadata": {
        "id": "lXR3p8shinh_"
      }
    },
    {
      "cell_type": "markdown",
      "source": [
        "**[4] Describe how dictionaries store data.**\n",
        "\n",
        "--> dictionaries store data in key-value pairs. Each key is unique, and it maps to a value.They are incredibly efficient for looking up, adding or modifying values based on a specific key.  Internally, Python uses a hash table to store and retrieve values efficiently.\n",
        "\n",
        "Keys must be immutable and values can be any data type. Dictionaries are designed for speed and efficiency.\n"
      ],
      "metadata": {
        "id": "c5GTCxozjl-Q"
      }
    },
    {
      "cell_type": "markdown",
      "source": [
        "**[5] Why might you use a set instead of a list in Python?**\n",
        "\n",
        "--> Sets automatically remove duplicate values and offer faster lookup for membership testing (in). They are useful when uniqueness is required.\n",
        "\n",
        "Sets support mathematical operations like union intersection, difference etc, which are not directly supported by lists.\n",
        "\n",
        "\n",
        "\n"
      ],
      "metadata": {
        "id": "_AzqfC30kUsX"
      }
    },
    {
      "cell_type": "markdown",
      "source": [
        "**[6] What is a string in Python and how is it different from a list?**\n",
        "\n",
        "--> A string in Python is a sequence of characters enclosed in quotes. It is immutable, means its contents cannot be changed after creation.\n",
        "\n",
        " A list is a collection of elements enclosed in square brackets. It is mutable, so its elements can be changed.\n",
        "\n",
        "* **Example:**\n",
        "\n",
        "s=\"hello\" #string\n",
        "\n",
        "l=[\"h\", \"e\", \"l\", \"l\", \"o\"] #list\n",
        "\n",
        "s[0]=\"H\" --> Error(string is immutable)\n",
        "\n",
        "l[0]=\"H\" --> works(list is mutable)"
      ],
      "metadata": {
        "id": "JK-ZZ4-Yo0Om"
      }
    },
    {
      "cell_type": "markdown",
      "source": [
        "**[7] How do tuples ensure data integrity in Python?**\n",
        "\n",
        "--> Tuples are immutable, meaning their elements cannot be changed after creation. This immutability protects data from being accidentally modified, ensuring consistency and integrity throughout the program.\n",
        "\n",
        "* **Example:**\n",
        "\n",
        "t=(10,20,30)\n",
        "\n",
        "t[0]=50 -> Error(cannot modify a tuple)"
      ],
      "metadata": {
        "id": "Od5r6k7Mrr2l"
      }
    },
    {
      "cell_type": "markdown",
      "source": [
        "**[8] What is a hash table, and how does it relate to dictionaries in Python?**\n",
        "\n",
        "--> A hash table is a data structure that stores data using a key and a computed hash value. It allows fast access to data using keys.\n",
        "\n",
        "In Python, dictionaries are built on hash tables. each Key is hashed to find the index where its value is stored, allowing quick lookup, insertion and deletion.\n",
        "\n",
        "* **Example:**\n",
        "\n",
        "student={\"name\": \"Anwesha\", \"age\": 24}\n",
        "\n",
        "* **Here,** 'name' is hashed to locate its value.\n",
        "\n"
      ],
      "metadata": {
        "id": "lT6Wra4ospB4"
      }
    },
    {
      "cell_type": "markdown",
      "source": [
        "**[9] can lists contain different data types in Python?**\n",
        "\n",
        "--> Yes, Python lists can contain elements of different data types. A single list can include integers, strings, floats, booleans, and even other lists or objects.\n",
        "\n",
        "* **Example:**\n",
        "\n",
        "mixed_list=[10,\"hello\", 3.14, True, [1,2], \"July\"]"
      ],
      "metadata": {
        "id": "SEeeCSZIuE7Q"
      }
    },
    {
      "cell_type": "markdown",
      "source": [
        "**[10] Explain why strings are immutable in Python?**\n",
        "\n",
        "--> Strings are immutable in Python to ensure safety, consistency, and performance. Once created, a string cannot be changed. This helps avoid accidental modifications, makes string safe to use as dictionary keys, and allows memory optimization through reuse. To change a string, a new one must be created, so it's safe for sharing or managing data without modification.\n"
      ],
      "metadata": {
        "id": "3m3wyHmLvCw7"
      }
    },
    {
      "cell_type": "markdown",
      "source": [
        "**[11] What advantages do dictionaries offer over lists for certain tasks?**\n",
        "\n",
        "--> Dictionaries offer several advantages over lists:\n",
        "\n",
        "(1) Faster data lookup using keys\n",
        "\n",
        "(2) key-value pairs allow for better organization of related data.\n",
        "\n",
        "(3) More readable and meaningful access to data  \n",
        "\n",
        "* **Example:**\n",
        "\n",
        "* **Using dictionary**\n",
        "\n",
        "student={\"name\":\"Anwesha\", \"Age\":24}\n",
        "\n",
        "* **Using list**\n",
        "\n",
        "student_list=[\"Anwesha\",24]\n",
        "\n",
        "* **Accessing name:**\n",
        "\n",
        "print(student[\"name\"]) (Clear)\n",
        "\n",
        "print(student_list[0]) (less clear)"
      ],
      "metadata": {
        "id": "Z63xOLftv0Bz"
      }
    },
    {
      "cell_type": "markdown",
      "source": [
        "**[12] Describe a scenario where using a tuple would be preferable over a list.**\n",
        "\n",
        "--> Tuples are used to store fixed, unchangeable data. Since tuples are immutable, they protect data from accidental modification.\n",
        "\n",
        "**Example:**\n",
        "\n",
        "Location=(28.61, 77.20)  (Latitute, Longitude)\n",
        "\n",
        "DOB=(27,12,2000)   (Date, Month, Year)\n",
        "\n",
        "**In such cases,** data should remain unchanged, so a tuple is more suitable than a list."
      ],
      "metadata": {
        "id": "f7MQ6ac_zb1j"
      }
    },
    {
      "cell_type": "markdown",
      "source": [
        "**[13] How do sets handle duplicate values in Python?**\n",
        "\n",
        "--> Sets in Python automatically remove duplicates. When a set is created or updated, any repeated values are stored only once.\n",
        "\n",
        "* **Example:**\n",
        "\n",
        "numbers={1,2,2,3,3,3,4,4,4,4}\n",
        "\n",
        "print(numbers)\n",
        "\n",
        "**Output:** {1,2,3,4}\n",
        "\n",
        "This makes sets useful to make a collection of unique items."
      ],
      "metadata": {
        "id": "DLtSwQDx0n-b"
      }
    },
    {
      "cell_type": "markdown",
      "source": [
        "**[14] How does the \"in\" keyword work differently for lists and dictionaries?**\n",
        "\n",
        "--> In a list, the \"in\" keyword checks if a value exists in the list.\n",
        "\n",
        "--> In a dictionary, \"in\" checks if a key exists, not the value.\n",
        "\n",
        "* **Example:**\n",
        "\n",
        "(1) **List**\n",
        "\n",
        "fruits=[\"Mango\", \"Pineapple\"]\n",
        "\n",
        "print(\"Mango\" in fruits)\n",
        "\n",
        "**Output:**\n",
        "\n",
        "True (Value)\n",
        "\n",
        "(2) **Dictionarry**\n",
        "\n",
        "student={\"name\":\"Anwesha\", \"Age\":24}\n",
        "\n",
        "print(\"name\" in student)\n",
        "\n",
        "**Output:**\n",
        "\n",
        "True (Key)\n",
        "\n",
        "print(\"Anwesha\" in student)\n",
        "\n",
        "**Output:**\n",
        "\n",
        "False (not a Key)"
      ],
      "metadata": {
        "id": "jkY-Zhqp13mk"
      }
    },
    {
      "cell_type": "markdown",
      "source": [
        "**[15] Can you modify the elements of a tuple? Explain why or why not.**\n",
        "\n",
        "--> No, you cannot modify the elements of a tuple because tuples are immutable in Python. Once a tuple is created its contents cannot be changed.\n",
        "\n",
        "* **Example:**\n",
        "\n",
        "t=(10,20,30)\n",
        "\n",
        "t[0]=50\n",
        "\n",
        "**Output:**\n",
        "\n",
        "Error  (: \"tuple\" object does not support item assignment.)\n",
        "\n",
        "This immutability helps protect data from accidental changes."
      ],
      "metadata": {
        "id": "C3-dYjs51j8O"
      }
    },
    {
      "cell_type": "markdown",
      "source": [
        "**[16] What is a nested dictionary and give an example of its use case?**\n",
        "\n",
        "--> A nested dictionary is a dictionary where one or more of the values is itself another dictionary. This allows to represent more complex data structures that require hierarchical storage.\n",
        "\n",
        "nested dictionaries are particularly useful when you need to group data under various categories or when data is organized in levels. It helps to store related information together in a structured format.\n",
        "\n",
        "* **Example:**\n",
        "\n",
        "Storing student information, including their subjects and grades.\n",
        "\n",
        "students={\n",
        "  \"Anwesha\":{\"Math\":99, \"Science\":80, \"English\":97},\n",
        "  \"Debasish\":{\"Math\":70, \"Science\":65, \"English\": 80}\n",
        "  )\n",
        "\n",
        "* **In this example:**\n",
        "\n",
        "(1)Anwesha and Debasish are the main keys in the dictionary.\n",
        "\n",
        "(2)The values associated with each key are themselves dictionaries that contain subjects and corresponding grades.\n",
        "\n",
        "**Nested Dictionaries are extremely useful for dealing with complex data structures as:**\n",
        "School Data, Employee details etc."
      ],
      "metadata": {
        "id": "jhNDceGV5jR5"
      }
    },
    {
      "cell_type": "markdown",
      "source": [
        "**[17] Describe the time complexity of accessing elements in a dictionary.**\n",
        "\n",
        "--> In Python, a dictionary stores data using key-value pairs. To get a value using a key, Python uses a method called hashing to find it quickly.\n",
        "\n",
        "The time it takes to find a value is usually constant, meaning it doesn't depend on how many items are in the dictionary. This is called 0(1) time complexity.\n",
        "\n",
        "* **Example:**\n",
        "\n",
        "student={\"name\": \"Anwesha\",\"age\":24}\n",
        "\n",
        "print(student[\"age\"])\n",
        "\n",
        "**Output:**\n",
        "\n",
        "24 (Takes 0(1)time)\n",
        "\n",
        "* **Even if the dictionary has many items, accessing a value by its key is still fast.**\n",
        "\n"
      ],
      "metadata": {
        "id": "mfNOL9M_94bo"
      }
    },
    {
      "cell_type": "markdown",
      "source": [
        "**[18] In what situations are lists preferred over dictionaries?**\n",
        "\n",
        "--> Lists are preferred over dictionaries when:\n",
        "\n",
        "(1) Order matters- Lists keep elements in the order they were added.\n",
        "\n",
        "(2) Indexing is needed- Elements can be accessed by their position(e.g., list[0])\n",
        "\n",
        "(3) Duplicate values are needed- Lists can store the same value multiple times.\n",
        "\n",
        "(4) Simple Collection- When need to store only values, not key-value pairs.\n",
        "\n"
      ],
      "metadata": {
        "id": "WKcEMGQ7AKci"
      }
    },
    {
      "cell_type": "markdown",
      "source": [
        "**[19] Why are dictionaries considered unordered, and how does that affect data retrieval?**\n",
        "\n",
        "--> Dictionaries were considered unordered before Python 3.7, meaning they didn't keep the order  of items.\n",
        "\n",
        "From Python 3.7 onward, they preserve insertion order, but data is still accessed by key, not by position.\n",
        "\n",
        "* So, order does not affect retrieval- Key is always used to get a value.\n",
        "\n",
        "* **Example:**\n",
        "\n",
        "info={\"name\": \"Anwesha\",\"age\": 24}\n",
        "\n",
        "print(info[\"name\"])\n",
        "\n",
        "**Output:**\n",
        "\n",
        "Anwesha  (accessed by key)\n",
        "\n"
      ],
      "metadata": {
        "id": "zcP-5G8vCe_k"
      }
    },
    {
      "cell_type": "markdown",
      "source": [
        "**[20] Explain the difference between a list and a dictionary in terms of data retrieval.**\n",
        "\n",
        "--> A list is a collection of items that are accessed using index numbers, strating from o. It maintains the order of elements and allows duplicates. In contrast, a dictionary stores data in key-value pairs and elements are accessed using keys, not positions.\n",
        "\n",
        "-->While lists are suitable when order and indexing are important, dictionaries are better when data needs to be labeled clearly for fast access.\n",
        "\n",
        "-->For Example, fruits[0] retrieves the first item from a list, whereas student[\"name\"] retrieves the value associated with the Key \"name\" in a dictionary\n",
        "\n"
      ],
      "metadata": {
        "id": "ZHlt3iZADU4r"
      }
    },
    {
      "cell_type": "markdown",
      "source": [
        "##Practical Questions"
      ],
      "metadata": {
        "id": "HvfOed-fFQpI"
      }
    },
    {
      "cell_type": "code",
      "source": [
        "#[1] Write a code to create a string with your name and print it.\n",
        "\n",
        "name=\"Anwesha\"\n",
        "print(\"My name is\", name)"
      ],
      "metadata": {
        "colab": {
          "base_uri": "https://localhost:8080/"
        },
        "id": "1ErKUqB7GsH1",
        "outputId": "b47dbaf6-1715-4c6f-8af2-741fbd09366d"
      },
      "execution_count": 4,
      "outputs": [
        {
          "output_type": "stream",
          "name": "stdout",
          "text": [
            "My name is Anwesha\n"
          ]
        }
      ]
    },
    {
      "cell_type": "code",
      "source": [
        "#[2] Write a code to find the length of the string \"Hello World\".\n",
        "\n",
        "text=\"Hello World\"\n",
        "length = len(text)\n",
        "print(\"Length of the string is\", length)"
      ],
      "metadata": {
        "colab": {
          "base_uri": "https://localhost:8080/"
        },
        "id": "VbHzKVYQIPr7",
        "outputId": "e15267ba-d0dd-4f20-b02f-96864912bbe7"
      },
      "execution_count": 5,
      "outputs": [
        {
          "output_type": "stream",
          "name": "stdout",
          "text": [
            "Length of the string is 11\n"
          ]
        }
      ]
    },
    {
      "cell_type": "code",
      "source": [
        "#[3] Write a code to slice the first 3 characters from the string \"Python Programming\".\n",
        "\n",
        "text=\"Python Programming\"\n",
        "slice=text[0:3]\n",
        "print(slice)"
      ],
      "metadata": {
        "colab": {
          "base_uri": "https://localhost:8080/"
        },
        "id": "mxwxPlZtI4l8",
        "outputId": "c4ec9f19-6e3d-4ae7-f55f-757bb44bc3c7"
      },
      "execution_count": 6,
      "outputs": [
        {
          "output_type": "stream",
          "name": "stdout",
          "text": [
            "Pyt\n"
          ]
        }
      ]
    },
    {
      "cell_type": "code",
      "source": [
        "#[4] Write a code to convert the string \"hello\" to uppercase.\n",
        "\n",
        "text=\"hello\"\n",
        "upper=text.upper()\n",
        "print(upper)"
      ],
      "metadata": {
        "colab": {
          "base_uri": "https://localhost:8080/"
        },
        "id": "62Lnfe03JXXz",
        "outputId": "7e5c6dba-6f9e-4273-8093-dd2564b2b97f"
      },
      "execution_count": 7,
      "outputs": [
        {
          "output_type": "stream",
          "name": "stdout",
          "text": [
            "HELLO\n"
          ]
        }
      ]
    },
    {
      "cell_type": "code",
      "source": [
        "#[5] Write a code to replace the word \"apple\" with \"orange\" in the string \"I like apple\".\n",
        "\n",
        "text=\"I like apple\"\n",
        "new_text=text.replace(\"apple\", \"orange\")\n",
        "print(new_text)"
      ],
      "metadata": {
        "colab": {
          "base_uri": "https://localhost:8080/"
        },
        "id": "krl3koVIJqds",
        "outputId": "4e7fe51c-ca07-4467-bdcc-d379b5a599bb"
      },
      "execution_count": 8,
      "outputs": [
        {
          "output_type": "stream",
          "name": "stdout",
          "text": [
            "I like orange\n"
          ]
        }
      ]
    },
    {
      "cell_type": "code",
      "source": [
        "#[6] Write a code to create a list with numbers 1 to 5 and print it.\n",
        "\n",
        "numbers=[1,2,3,4,5]\n",
        "print(\"List of numbers:\", numbers)"
      ],
      "metadata": {
        "colab": {
          "base_uri": "https://localhost:8080/"
        },
        "id": "Iz7NZ9WrVX9a",
        "outputId": "cd35ad02-e2c7-4101-ac2b-45da2c002b3f"
      },
      "execution_count": 10,
      "outputs": [
        {
          "output_type": "stream",
          "name": "stdout",
          "text": [
            "List of numbers: [1, 2, 3, 4, 5]\n"
          ]
        }
      ]
    },
    {
      "cell_type": "code",
      "source": [
        "#[7] write a code to append the number 10 to the list [1,2,3,4]\n",
        "\n",
        "numbers=[1,2,3,4]\n",
        "numbers.append(10)\n",
        "print(\"Updated list:\", numbers)"
      ],
      "metadata": {
        "colab": {
          "base_uri": "https://localhost:8080/"
        },
        "id": "A2nIqvtLZjAo",
        "outputId": "d3453614-5ea8-4d1b-8416-903bf8d824f1"
      },
      "execution_count": 11,
      "outputs": [
        {
          "output_type": "stream",
          "name": "stdout",
          "text": [
            "Updated list: [1, 2, 3, 4, 10]\n"
          ]
        }
      ]
    },
    {
      "cell_type": "code",
      "source": [
        "#[8] Write a code to remove the number 3 from the list [1,2,3,4,5]\n",
        "\n",
        "numbers=[1,2,3,4,5]\n",
        "numbers.remove(3)\n",
        "print(\"Updated list:\", numbers)"
      ],
      "metadata": {
        "colab": {
          "base_uri": "https://localhost:8080/"
        },
        "id": "RxZL3tp6ZytO",
        "outputId": "6c1724bc-2488-404c-9a54-6eed884c2c2b"
      },
      "execution_count": 12,
      "outputs": [
        {
          "output_type": "stream",
          "name": "stdout",
          "text": [
            "Updated list: [1, 2, 4, 5]\n"
          ]
        }
      ]
    },
    {
      "cell_type": "code",
      "source": [
        "#[9] Write a code to access the second element in the list ['a','b','c','d']\n",
        "\n",
        "letters=['a','b','c','d']\n",
        "print(\"Second element:\", letters[1])"
      ],
      "metadata": {
        "colab": {
          "base_uri": "https://localhost:8080/"
        },
        "id": "xG_bEORjaAdO",
        "outputId": "addb1d2c-08b3-4f91-b491-f0dec55b667a"
      },
      "execution_count": 13,
      "outputs": [
        {
          "output_type": "stream",
          "name": "stdout",
          "text": [
            "Second element: b\n"
          ]
        }
      ]
    },
    {
      "cell_type": "code",
      "source": [
        "#[10] Write a code to reverse the list[10,20,30,40,50]\n",
        "\n",
        "numbers=[10,20,30,40,50]\n",
        "numbers.reverse()\n",
        "print(\"Reversed list:\", numbers)"
      ],
      "metadata": {
        "colab": {
          "base_uri": "https://localhost:8080/"
        },
        "id": "boC31aohaXyV",
        "outputId": "54c12452-efe1-4031-8387-9709130a80a2"
      },
      "execution_count": 14,
      "outputs": [
        {
          "output_type": "stream",
          "name": "stdout",
          "text": [
            "Reversed list: [50, 40, 30, 20, 10]\n"
          ]
        }
      ]
    },
    {
      "cell_type": "code",
      "source": [
        "#[11] Write a code to create a tuple with the elements 100,200,300 and print it.\n",
        "\n",
        "my_tuple = (100,200,300)\n",
        "print(\"Tuple:\", my_tuple)"
      ],
      "metadata": {
        "colab": {
          "base_uri": "https://localhost:8080/"
        },
        "id": "sbpMOiOTakzN",
        "outputId": "8348eda3-5e83-4c13-e3b1-73d0541dd733"
      },
      "execution_count": 15,
      "outputs": [
        {
          "output_type": "stream",
          "name": "stdout",
          "text": [
            "Tuple: (100, 200, 300)\n"
          ]
        }
      ]
    },
    {
      "cell_type": "code",
      "source": [
        "#[12] Write a code to access the second-to-last element of the tuple ('red','green','blue','yellow').\n",
        "\n",
        "colors=('red','green','blue','yellow')\n",
        "print(\"Second-to-last element:\", colors[-2])"
      ],
      "metadata": {
        "colab": {
          "base_uri": "https://localhost:8080/"
        },
        "id": "h_0Gxufpa7Ol",
        "outputId": "31a2a68a-b515-47dc-d107-958b2f4d2e13"
      },
      "execution_count": 16,
      "outputs": [
        {
          "output_type": "stream",
          "name": "stdout",
          "text": [
            "Second-to-last element: blue\n"
          ]
        }
      ]
    },
    {
      "cell_type": "code",
      "source": [
        "#[13] Write a code to find the minimum number in the tuple (10,20,5,15)\n",
        "\n",
        "numbers=(10,20,5,15)\n",
        "minimum=min(numbers)\n",
        "print(\"Minimum number:\", minimum)"
      ],
      "metadata": {
        "colab": {
          "base_uri": "https://localhost:8080/"
        },
        "id": "vjdBLYKcbTUl",
        "outputId": "f5ac0a3d-66dc-4fe4-c0d4-cd9636ca2aca"
      },
      "execution_count": 17,
      "outputs": [
        {
          "output_type": "stream",
          "name": "stdout",
          "text": [
            "Minimum number: 5\n"
          ]
        }
      ]
    },
    {
      "cell_type": "code",
      "source": [
        "#[14] Write a code to find the index of the element \"cat\" in the tuple('dog','cat','rabbit')\n",
        "\n",
        "animals=('dog','cat','rabbit')\n",
        "index=animals.index('cat')\n",
        "print(\"Index of 'cat':\", index)"
      ],
      "metadata": {
        "colab": {
          "base_uri": "https://localhost:8080/"
        },
        "id": "2lLWY8JcbhHN",
        "outputId": "a7d279a8-833a-416f-f5d7-9270312e9bc3"
      },
      "execution_count": 18,
      "outputs": [
        {
          "output_type": "stream",
          "name": "stdout",
          "text": [
            "Index of 'cat': 1\n"
          ]
        }
      ]
    },
    {
      "cell_type": "code",
      "source": [
        "#[15] Write a code to create a tuple containing three different fruits and check if \"kiwi\" is in it.\n",
        "\n",
        "fruits=('apple', 'kiwi', 'orange')\n",
        "if 'kiwi' in fruits:\n",
        "  print(\"Kiwi is in the tuple\")\n",
        "else:\n",
        "  print(\"Kiwi is not in the tuple\")"
      ],
      "metadata": {
        "colab": {
          "base_uri": "https://localhost:8080/"
        },
        "id": "6zQ0oAaBb7vF",
        "outputId": "0638838e-d834-444a-e255-ae19af1309c6"
      },
      "execution_count": 19,
      "outputs": [
        {
          "output_type": "stream",
          "name": "stdout",
          "text": [
            "Kiwi is in the tuple\n"
          ]
        }
      ]
    },
    {
      "cell_type": "code",
      "source": [
        "#[16] Write a code to create a set with the elements 'a','b','c' and print it.\n",
        "\n",
        "my_set={'a','b','c'}\n",
        "print(\"Set:\", my_set)"
      ],
      "metadata": {
        "colab": {
          "base_uri": "https://localhost:8080/"
        },
        "id": "F1Som7FDcUQt",
        "outputId": "a38dbfac-bd0c-410c-97a7-ce1dadb802bc"
      },
      "execution_count": 20,
      "outputs": [
        {
          "output_type": "stream",
          "name": "stdout",
          "text": [
            "Set: {'c', 'b', 'a'}\n"
          ]
        }
      ]
    },
    {
      "cell_type": "code",
      "source": [
        "#[17] Write a code to clear all elements from the set {1,2,3,4,5}\n",
        "\n",
        "my_set={1,2,3,4,5}\n",
        "my_set.clear()\n",
        "print(\"Cleared set:\", my_set)"
      ],
      "metadata": {
        "colab": {
          "base_uri": "https://localhost:8080/"
        },
        "id": "ucGNfTdvcsz9",
        "outputId": "77271230-0c06-48d6-d0d1-09cb7272bb0a"
      },
      "execution_count": 24,
      "outputs": [
        {
          "output_type": "stream",
          "name": "stdout",
          "text": [
            "Cleared set: set()\n"
          ]
        }
      ]
    },
    {
      "cell_type": "code",
      "source": [
        "#[18] Write a code to remove the element 4 from the set {1,2,3,4}\n",
        "\n",
        "the_set = {1,2,3,4}\n",
        "the_set.remove(4)\n",
        "print(\"Set after removing 4:\", the_set)"
      ],
      "metadata": {
        "colab": {
          "base_uri": "https://localhost:8080/"
        },
        "id": "Q1pyjMkkc5Nu",
        "outputId": "7bb6ff26-6aec-4748-f648-41ce5b73bc1e"
      },
      "execution_count": 25,
      "outputs": [
        {
          "output_type": "stream",
          "name": "stdout",
          "text": [
            "Set after removing 4: {1, 2, 3}\n"
          ]
        }
      ]
    },
    {
      "cell_type": "code",
      "source": [
        "#[19] Write a code to find the union of two sets {1,2,3} and {3,4,5}.\n",
        "\n",
        "set1 = {1,2,3}\n",
        "set2 = {3,4,5}\n",
        "union_set = set1.union(set2)\n",
        "print(\"Union of the sets:\", union_set)"
      ],
      "metadata": {
        "colab": {
          "base_uri": "https://localhost:8080/"
        },
        "id": "y7gIj5MqdkS9",
        "outputId": "b9b4ce59-0d3c-4427-f1e9-15852b8c1fb0"
      },
      "execution_count": 26,
      "outputs": [
        {
          "output_type": "stream",
          "name": "stdout",
          "text": [
            "Union of the sets: {1, 2, 3, 4, 5}\n"
          ]
        }
      ]
    },
    {
      "cell_type": "code",
      "source": [
        "#[20] Write a code to find the intersection of two sets {1,2,3} and {2,3,4}\n",
        "\n",
        "set1 = {1,2,3}\n",
        "set2 = {2,3,4}\n",
        "intersection_set = set1.intersection(set2)\n",
        "print(\"Intersection of the sets:\", intersection_set)"
      ],
      "metadata": {
        "colab": {
          "base_uri": "https://localhost:8080/"
        },
        "id": "Y8lQyaqpd3yF",
        "outputId": "a8952241-bbc6-4a74-904a-d2d4b9f8a05a"
      },
      "execution_count": 27,
      "outputs": [
        {
          "output_type": "stream",
          "name": "stdout",
          "text": [
            "Intersection of the sets: {2, 3}\n"
          ]
        }
      ]
    },
    {
      "cell_type": "code",
      "source": [
        "#[21] Write a code to create a dictionary with the keys \"name\",\"age\", and \"city\", and print it.\n",
        "\n",
        "Info = {\"name\": \"Anwesha\", \"age\": 24, \"city\": \"Kolkata\"}\n",
        "print(\"Dictionary:\", Info)"
      ],
      "metadata": {
        "colab": {
          "base_uri": "https://localhost:8080/"
        },
        "id": "e8ZnP3x2eHVN",
        "outputId": "1cfe18f1-5ab9-4b0d-8194-08257430ecb1"
      },
      "execution_count": 28,
      "outputs": [
        {
          "output_type": "stream",
          "name": "stdout",
          "text": [
            "Dictionary: {'name': 'Anwesha', 'age': 24, 'city': 'Kolkata'}\n"
          ]
        }
      ]
    },
    {
      "cell_type": "code",
      "source": [
        "#[22] Write a code to add a new key-value pair \"country\": \"USA\" to the dictionary {'name':'John','age':25}\n",
        "\n",
        "Info = {'name':'John','age':25}\n",
        "Info['country'] = 'USA'\n",
        "print(\"Updated dictionary:\", Info)"
      ],
      "metadata": {
        "colab": {
          "base_uri": "https://localhost:8080/"
        },
        "id": "Of_7tZGGejdY",
        "outputId": "b73f9852-c235-46b7-f52e-8fc3a53f7acf"
      },
      "execution_count": 29,
      "outputs": [
        {
          "output_type": "stream",
          "name": "stdout",
          "text": [
            "Updated dictionary: {'name': 'John', 'age': 25, 'country': 'USA'}\n"
          ]
        }
      ]
    },
    {
      "cell_type": "code",
      "source": [
        "#[23] Write a code to access the value associated with the key \"name\" in the dictionary {'name':'Alice','age':30}\n",
        "\n",
        "Info = {'name':'Alice','age':30}\n",
        "print(\"Value associated with 'name':\", Info['name'])"
      ],
      "metadata": {
        "colab": {
          "base_uri": "https://localhost:8080/"
        },
        "id": "dvqPSCd7e6mN",
        "outputId": "730742c6-5592-43fa-8d51-6902afff6ea6"
      },
      "execution_count": 30,
      "outputs": [
        {
          "output_type": "stream",
          "name": "stdout",
          "text": [
            "Value associated with 'name': Alice\n"
          ]
        }
      ]
    },
    {
      "cell_type": "code",
      "source": [
        "#[24] Write a code to remove the key \"age\" from the dictionary {'name':'Bob','age':22,'city':'New York'}\n",
        "\n",
        "Info = {'name':'Bob','age':22,'city':'New York'}\n",
        "del Info['age']\n",
        "print(\"Dictionary after removing 'age':\", Info)"
      ],
      "metadata": {
        "colab": {
          "base_uri": "https://localhost:8080/"
        },
        "id": "X-RoNia-fSyo",
        "outputId": "05e66bf4-5d1b-411b-dc2a-ca01d76960e5"
      },
      "execution_count": 1,
      "outputs": [
        {
          "output_type": "stream",
          "name": "stdout",
          "text": [
            "Dictionary after removing 'age': {'name': 'Bob', 'city': 'New York'}\n"
          ]
        }
      ]
    },
    {
      "cell_type": "code",
      "source": [
        "#[25] Write a code to check if the key \"city\" exists in the dictionary {'name':'Alice','city':'Paris'}\n",
        "\n",
        "Info={'name':'Alice','city':'Paris'}\n",
        "if 'city' in Info:\n",
        "  print(\"Key 'city' exists in the dictionary\")\n",
        "else:\n",
        "  print(\"Key 'city' does not exist in the dictionary\")"
      ],
      "metadata": {
        "colab": {
          "base_uri": "https://localhost:8080/"
        },
        "id": "IVO1SSCXFvgN",
        "outputId": "7ccc35b0-698f-4e91-8644-d420bcb745d5"
      },
      "execution_count": 2,
      "outputs": [
        {
          "output_type": "stream",
          "name": "stdout",
          "text": [
            "Key 'city' exists in the dictionary\n"
          ]
        }
      ]
    },
    {
      "cell_type": "code",
      "source": [
        "#[26] Write a code to create a list, a tuple and a dictionary, and print them all\n",
        "\n",
        "my_list = [1,2,3]\n",
        "my_tuple = (4,5,6)\n",
        "my_dict = {'a':1, 'b':2, 'c':3}\n",
        "\n",
        "print(\"List:\", my_list)\n",
        "print(\"Tuple:\", my_tuple)\n",
        "print(\"Dictionary:\", my_dict)"
      ],
      "metadata": {
        "colab": {
          "base_uri": "https://localhost:8080/"
        },
        "id": "paqMsb6gGUBF",
        "outputId": "db4b8685-4f8f-4c76-c85b-d2a51e10c150"
      },
      "execution_count": 3,
      "outputs": [
        {
          "output_type": "stream",
          "name": "stdout",
          "text": [
            "List: [1, 2, 3]\n",
            "Tuple: (4, 5, 6)\n",
            "Dictionary: {'a': 1, 'b': 2, 'c': 3}\n"
          ]
        }
      ]
    },
    {
      "cell_type": "code",
      "source": [
        "#[27] Write a code to create a list of 5 random numbers between 1 and 100,\n",
        "#sort it in ascending order, and print the result.\n",
        "\n",
        "numbers=[23,56,78,3,20]\n",
        "numbers.sort()\n",
        "print(\"Sorted list:\", numbers)\n"
      ],
      "metadata": {
        "colab": {
          "base_uri": "https://localhost:8080/"
        },
        "id": "g5YqmPghGrcM",
        "outputId": "a36674a2-3495-4e3e-fc57-c09579cd3ada"
      },
      "execution_count": 5,
      "outputs": [
        {
          "output_type": "stream",
          "name": "stdout",
          "text": [
            "Sorted list: [3, 20, 23, 56, 78]\n"
          ]
        }
      ]
    },
    {
      "cell_type": "code",
      "source": [
        "#[28] Write a code to create a list with strings and print the element at the third index\n",
        "\n",
        "strings = [\"apple\", \"banana\", \"cherry\", \"Mango\", \"Guava\"]\n",
        "print(\"Element at third index:\", strings[3])"
      ],
      "metadata": {
        "colab": {
          "base_uri": "https://localhost:8080/"
        },
        "id": "tucD6ODWHm2N",
        "outputId": "1c8fe985-9596-4a3b-d2ef-05cdc2d92769"
      },
      "execution_count": 11,
      "outputs": [
        {
          "output_type": "stream",
          "name": "stdout",
          "text": [
            "Element at third index: Mango\n"
          ]
        }
      ]
    },
    {
      "cell_type": "code",
      "source": [
        "#[29] Write a code to combine two dictionaries into one and print the result\n",
        "\n",
        "dict1 = {'a': 1, 'b': 2}\n",
        "dict2 = {'c': 3, 'd': 4}\n",
        "combined_dict = {**dict1, **dict2}\n",
        "print(\"Combined dictionary:\", combined_dict)"
      ],
      "metadata": {
        "colab": {
          "base_uri": "https://localhost:8080/"
        },
        "id": "iOiwsp2jIR2n",
        "outputId": "acf4de6b-047c-418c-e14a-6151544b7811"
      },
      "execution_count": 12,
      "outputs": [
        {
          "output_type": "stream",
          "name": "stdout",
          "text": [
            "Combined dictionary: {'a': 1, 'b': 2, 'c': 3, 'd': 4}\n"
          ]
        }
      ]
    },
    {
      "cell_type": "code",
      "source": [
        "#[30] Write a code to convert a list of strings into a set\n",
        "\n",
        "strings = [\"apple\", \"banana\", \"cherry\", \"Mango\", \"Guava\"]\n",
        "my_set = set(strings)\n",
        "print(\"Set:\", my_set)"
      ],
      "metadata": {
        "colab": {
          "base_uri": "https://localhost:8080/"
        },
        "id": "RazppXTQIt_d",
        "outputId": "b40fe179-755e-49f3-bebf-9b0e9549694a"
      },
      "execution_count": 13,
      "outputs": [
        {
          "output_type": "stream",
          "name": "stdout",
          "text": [
            "Set: {'Guava', 'cherry', 'apple', 'banana', 'Mango'}\n"
          ]
        }
      ]
    }
  ]
}